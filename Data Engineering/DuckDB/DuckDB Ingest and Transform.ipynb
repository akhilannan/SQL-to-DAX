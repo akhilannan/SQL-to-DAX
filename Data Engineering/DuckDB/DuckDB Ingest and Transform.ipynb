{
 "cells": [
  {
   "cell_type": "markdown",
   "metadata": {},
   "source": [
    "# Install DuckDB"
   ]
  },
  {
   "cell_type": "code",
   "execution_count": null,
   "metadata": {},
   "outputs": [],
   "source": [
    "pip install duckdb --upgrade"
   ]
  },
  {
   "cell_type": "markdown",
   "metadata": {},
   "source": [
    "# Initialize Variables"
   ]
  },
  {
   "cell_type": "code",
   "execution_count": 1,
   "metadata": {},
   "outputs": [],
   "source": [
    "DatasetURL = \"https://uhesse.files.wordpress.com/2020/08/\"\n",
    "file = \"mytpch_oracle.zip\"\n",
    "BaseURL = DatasetURL + file\n",
    "contentName = \"TPC-H-SF1\"\n",
    "dbName = \"DuckDB\"\n",
    "curatedFormat = \"parquet\"\n",
    "basePath = f\"/DEV/{contentName}\"\n",
    "rawPath = f\"{basePath}/raw\"\n",
    "curatedPath = f\"{basePath}/curated\"\n",
    "zipPath = f\"{rawPath}/{file}\""
   ]
  },
  {
   "cell_type": "markdown",
   "metadata": {},
   "source": [
    "# Create folders if it doesn't exist"
   ]
  },
  {
   "cell_type": "code",
   "execution_count": 7,
   "metadata": {},
   "outputs": [],
   "source": [
    "from pathlib import Path\n",
    "Path(rawPath).mkdir(parents=True, exist_ok=True)\n",
    "Path(curatedPath).mkdir(parents=True, exist_ok=True)"
   ]
  },
  {
   "cell_type": "markdown",
   "metadata": {},
   "source": [
    "# Download Data"
   ]
  },
  {
   "cell_type": "code",
   "execution_count": 8,
   "metadata": {},
   "outputs": [
    {
     "data": {
      "text/plain": [
       "('/DEV/TPC-H-SF1/raw/mytpch_oracle.zip',\n",
       " <http.client.HTTPMessage at 0x1628eebc400>)"
      ]
     },
     "execution_count": 8,
     "metadata": {},
     "output_type": "execute_result"
    }
   ],
   "source": [
    "from urllib.request import urlretrieve\n",
    "urlretrieve(BaseURL,zipPath)"
   ]
  },
  {
   "cell_type": "markdown",
   "metadata": {},
   "source": [
    "# Unzip Data"
   ]
  },
  {
   "cell_type": "code",
   "execution_count": 9,
   "metadata": {},
   "outputs": [],
   "source": [
    "import zipfile\n",
    "with zipfile.ZipFile(zipPath, 'r') as zip_ref:\n",
    "    zip_ref.extractall(rawPath)"
   ]
  },
  {
   "cell_type": "markdown",
   "metadata": {},
   "source": [
    "# Remove Unnecessary files"
   ]
  },
  {
   "cell_type": "code",
   "execution_count": 10,
   "metadata": {},
   "outputs": [],
   "source": [
    "import os\n",
    "for item in os.listdir(rawPath):\n",
    "    if item.endswith(\".zip\") or item.endswith(\".sql\") or item.endswith(\".ctl\") or item.endswith(\"README.txt\"):\n",
    "        os.remove(os.path.join(rawPath, item))"
   ]
  },
  {
   "cell_type": "markdown",
   "metadata": {},
   "source": [
    "# Create Database"
   ]
  },
  {
   "cell_type": "code",
   "execution_count": 2,
   "metadata": {},
   "outputs": [],
   "source": [
    "import duckdb\n",
    "cursor = duckdb.connect(dbName, read_only=False)"
   ]
  },
  {
   "cell_type": "markdown",
   "metadata": {},
   "source": [
    "# Initialize tpc-H Table Schema"
   ]
  },
  {
   "cell_type": "code",
   "execution_count": 3,
   "metadata": {},
   "outputs": [],
   "source": [
    "tpch_schemas = {\n",
    "               \"nation\":\"{'n_nationkey': 'int', 'n_name': 'string', 'n_regionkey': 'int', 'n_comment': 'string'}\",\n",
    "               \"region\":\"{'r_regionkey': 'int', 'r_name': 'string', 'r_comment': 'string'}\",\n",
    "               \"part\":\"{'p_partkey': 'int', 'p_name': 'string', 'p_mfgr': 'string', 'p_brand': 'string', 'p_type': 'string', 'p_size': 'int', 'p_container': 'string', 'p_retailprice': 'decimal(15,2)', 'p_comment': 'string'}\",\n",
    "               \"supplier\":\"{'s_suppkey': 'int', 's_name': 'string', 's_address': 'string', 's_nationkey': 'int', 's_phone': 'string', 's_acctbal': 'decimal(4,2)', 's_comment': 'string'}\",\n",
    "               \"customer\":\"{'c_custkey': 'int','c_name': 'string', 'c_address': 'string', 'c_nationkey': 'int', 'c_phone': 'string', 'c_acctbal': 'decimal(4,2)', 'c_mktsegment': 'string', 'c_comment': 'string'}\",\n",
    "               \"partsupp\":\"{'ps_partkey': 'int', 'ps_suppkey': 'int', 'ps_availqty': 'int', 'ps_supplycost': 'decimal(15,2)', 'ps_comment': 'string'}\",\n",
    "               \"orders\":\"{'o_orderkey': 'int', 'o_custkey': 'int', 'o_orderstatus': 'string', 'o_totalprice': 'decimal(15,2)', 'o_orderdate': 'date', 'o_orderpriority': 'string', 'o_clerk': 'string', 'o_shippriority': 'int', 'o_comment': 'string'}\",\n",
    "               \"lineitem\":\"{'l_orderkey': 'int', 'l_partkey': 'int', 'l_suppkey': 'int', 'l_linenumber': 'int', 'l_quantity': 'int', 'l_extendedprice': 'decimal(15,2)', 'l_discount': 'decimal(2,2)', 'l_tax': 'decimal(2,2)', 'l_returnflag': 'string', 'l_linestatus': 'string', 'l_shipdate': 'date', 'l_commitdate': 'date', 'l_receiptdate': 'date', 'l_shipinstruct': 'string', 'l_shipmode': 'string', 'l_comment': 'string'}\"\n",
    "               }"
   ]
  },
  {
   "cell_type": "markdown",
   "metadata": {},
   "source": [
    "# Create view for all raw files"
   ]
  },
  {
   "cell_type": "code",
   "execution_count": 4,
   "metadata": {},
   "outputs": [],
   "source": [
    "for name, schema in tpch_schemas.items():\n",
    "    project_text = \"\"\n",
    "    df = cursor.query(f\"SELECT * from read_csv_auto('{rawPath}/{name}.txt', delim=',', header=False, columns={schema})\")\n",
    "    for col, dtype in dict(zip(df.columns, df.types)).items():\n",
    "        project_text += f\"trim({col}) AS {col},\" if dtype == 'VARCHAR' else f\"{col},\"\n",
    "    df.project(project_text[:-1]).create_view(name)"
   ]
  },
  {
   "cell_type": "markdown",
   "metadata": {},
   "source": [
    "# Setup Star Schema sql"
   ]
  },
  {
   "cell_type": "code",
   "execution_count": 5,
   "metadata": {},
   "outputs": [],
   "source": [
    "from collections import OrderedDict\n",
    "\n",
    "tpch_star_schema_sql = OrderedDict()\n",
    "tpch_star_schema_sql['dimcustomer'] =\"\"\"\n",
    "SELECT cus.c_custkey                AS custkey,\n",
    "       cus.c_name                   AS customer_name,\n",
    "       cus.c_address                AS customer_address,\n",
    "       Substring(cus.c_phone, 1, 2) AS customer_country_code,\n",
    "       cus.c_phone                  AS customer_phone_no,\n",
    "       cus.c_acctbal                AS customer_account_balance,\n",
    "       cus.c_mktsegment             AS market_segment,\n",
    "       nat.n_name                   AS customer_nation,\n",
    "       reg.r_name                   AS customer_region,\n",
    "       cus.c_comment                AS customer_comment\n",
    "FROM   customer cus\n",
    "       INNER JOIN nation nat\n",
    "               ON ( nat.n_nationkey = cus.c_nationkey )\n",
    "       INNER JOIN region reg\n",
    "               ON ( reg.r_regionkey = nat.n_regionkey ) \n",
    "\"\"\"\n",
    "tpch_star_schema_sql['dimsupplier'] = \"\"\"\n",
    "SELECT s_suppkey  AS suppkey,\n",
    "       s_name     AS supplier_name,\n",
    "       s_address  AS supplier_address,\n",
    "       s_phone    AS supplier_phone_no,\n",
    "       s_acctbal  AS supplier_account_balance,\n",
    "       s_comment  AS supplier_comment,\n",
    "       nat.n_name AS supplier_nation,\n",
    "       reg.r_name AS supplier_region\n",
    "FROM   supplier sup\n",
    "       INNER JOIN nation nat\n",
    "               ON ( nat.n_nationkey = sup.s_nationkey )\n",
    "       INNER JOIN region reg\n",
    "               ON ( reg.r_regionkey = nat.n_regionkey ) \n",
    "\"\"\"\n",
    "tpch_star_schema_sql['dimpart'] = \"\"\"\n",
    "SELECT p_partkey   AS partkey,\n",
    "       p_name      AS part_name,\n",
    "       p_mfgr      AS manufacturer,\n",
    "       p_brand     AS brand,\n",
    "       p_type      AS type,\n",
    "       p_size      AS size,\n",
    "       p_container AS container\n",
    "FROM   part\n",
    "\"\"\"\n",
    "tpch_star_schema_sql['dimorderinfo'] = \"\"\"\n",
    "SELECT Row_number() OVER( ORDER BY NULL ) AS orderinfokey,\n",
    "       t.*\n",
    "FROM   (SELECT DISTINCT ord.o_shippriority  AS ship_priority,\n",
    "                        lit.l_shipmode      AS ship_mode,\n",
    "                        ord.o_orderpriority AS order_priority,\n",
    "                        ord.o_orderstatus   AS order_status,\n",
    "                        lit.l_shipinstruct  AS ship_instruct,\n",
    "                        lit.l_returnflag    AS return_flag,\n",
    "                        lit.l_linestatus    AS line_status\n",
    "        FROM   orders ord\n",
    "               INNER JOIN lineitem lit\n",
    "                            ON ( lit.l_orderkey = ord.o_orderkey )) t \n",
    "\"\"\"\n",
    "tpch_star_schema_sql['factpartsupp'] = \"\"\"\n",
    "SELECT ps_partkey    AS partkey,\n",
    "       ps_suppkey    AS suppkey,\n",
    "       ps_availqty   AS availqty,\n",
    "       ps_supplycost AS supplycost\n",
    "FROM   partsupp \n",
    "\"\"\"\n",
    "tpch_star_schema_sql['factorderline'] = \"\"\"\n",
    "SELECT lit.l_partkey     AS partkey,\n",
    "       lit.l_suppkey     AS suppkey,\n",
    "       ord.o_custkey     AS custkey,\n",
    "       ord.o_orderkey    AS orderkey,\n",
    "       inf.orderinfokey  AS orderinfokey,\n",
    "       lit.l_shipdate    AS shipdate,\n",
    "       ord.o_orderdate   AS orderdate,\n",
    "       lit.l_commitdate  AS commitdate,\n",
    "       lit.l_receiptdate AS receiptdate,\n",
    "       lit.l_quantity    AS quantity,\n",
    "       prt.p_retailprice AS retailprice,\n",
    "       lit.l_discount    AS discount,\n",
    "       psp.ps_supplycost AS supplycost,\n",
    "       lit.l_tax         AS tax,\n",
    "       ord.o_comment     AS order_comment\n",
    "FROM   orders ord\n",
    "       INNER JOIN lineitem lit\n",
    "                    ON ( ord.o_orderkey = lit.l_orderkey )\n",
    "       INNER JOIN partsupp psp\n",
    "                    ON ( psp.ps_partkey = lit.l_partkey\n",
    "                         AND psp.ps_suppkey = lit.l_suppkey )\n",
    "       INNER JOIN part prt\n",
    "                    ON ( prt.p_partkey = lit.l_partkey )\n",
    "       LEFT OUTER JOIN dimorderinfo inf\n",
    "                    ON ( inf.ship_priority = ord.o_shippriority\n",
    "                         AND inf.ship_mode = lit.l_shipmode\n",
    "                         AND inf.order_priority = ord.o_orderpriority\n",
    "                         AND inf.order_status = ord.o_orderstatus\n",
    "                         AND inf.ship_instruct = lit.l_shipinstruct\n",
    "                         AND inf.return_flag = lit.l_returnflag\n",
    "                         AND inf.line_status = lit.l_linestatus ) \n",
    "\"\"\""
   ]
  },
  {
   "cell_type": "markdown",
   "metadata": {},
   "source": [
    "# Create Parquet files based on sql and build a view on top"
   ]
  },
  {
   "cell_type": "code",
   "execution_count": 6,
   "metadata": {},
   "outputs": [],
   "source": [
    "for tbl, sql in tpch_star_schema_sql.items():\n",
    "    filePath = f\"{curatedPath}/{tbl}.{curatedFormat}\"\n",
    "    cursor.execute(f\"COPY ({sql}) TO '{filePath}' (FORMAT '{curatedFormat}');\")\n",
    "    cursor.execute(f\"CREATE OR REPLACE VIEW {tbl} AS SELECT * from '{filePath}'\")"
   ]
  },
  {
   "cell_type": "markdown",
   "metadata": {},
   "source": [
    "# Test Data"
   ]
  },
  {
   "cell_type": "code",
   "execution_count": 7,
   "metadata": {},
   "outputs": [
    {
     "data": {
      "text/html": [
       "<div>\n",
       "<style scoped>\n",
       "    .dataframe tbody tr th:only-of-type {\n",
       "        vertical-align: middle;\n",
       "    }\n",
       "\n",
       "    .dataframe tbody tr th {\n",
       "        vertical-align: top;\n",
       "    }\n",
       "\n",
       "    .dataframe thead th {\n",
       "        text-align: right;\n",
       "    }\n",
       "</style>\n",
       "<table border=\"1\" class=\"dataframe\">\n",
       "  <thead>\n",
       "    <tr style=\"text-align: right;\">\n",
       "      <th></th>\n",
       "      <th>count_star()</th>\n",
       "    </tr>\n",
       "  </thead>\n",
       "  <tbody>\n",
       "    <tr>\n",
       "      <th>0</th>\n",
       "      <td>6001215</td>\n",
       "    </tr>\n",
       "  </tbody>\n",
       "</table>\n",
       "</div>"
      ],
      "text/plain": [
       "   count_star()\n",
       "0       6001215"
      ]
     },
     "execution_count": 7,
     "metadata": {},
     "output_type": "execute_result"
    }
   ],
   "source": [
    "sqlTest = \"\"\"\n",
    "SELECT\n",
    "    COUNT(*)\n",
    "FROM\n",
    "    factorderline\n",
    "\"\"\"\n",
    "cursor.execute(sqlTest).fetchdf()"
   ]
  }
 ],
 "metadata": {
  "kernelspec": {
   "display_name": "Python 3.10.8 64-bit (microsoft store)",
   "language": "python",
   "name": "python3"
  },
  "language_info": {
   "codemirror_mode": {
    "name": "ipython",
    "version": 3
   },
   "file_extension": ".py",
   "mimetype": "text/x-python",
   "name": "python",
   "nbconvert_exporter": "python",
   "pygments_lexer": "ipython3",
   "version": "3.10.8"
  },
  "orig_nbformat": 4,
  "vscode": {
   "interpreter": {
    "hash": "e0acaf148705ed9ed86cc5cad12259d7985e30670e5686e5f55604a9b3b84a55"
   }
  }
 },
 "nbformat": 4,
 "nbformat_minor": 2
}
